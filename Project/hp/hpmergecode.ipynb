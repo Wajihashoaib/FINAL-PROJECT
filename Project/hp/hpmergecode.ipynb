{
 "cells": [
  {
   "cell_type": "code",
   "execution_count": 1,
   "id": "bc9af627",
   "metadata": {},
   "outputs": [],
   "source": [
    "import pandas as pd\n",
    "from glob import glob"
   ]
  },
  {
   "cell_type": "code",
   "execution_count": 2,
   "id": "56b335c5",
   "metadata": {},
   "outputs": [],
   "source": [
    "data_files = sorted(glob('review*.csv'))"
   ]
  },
  {
   "cell_type": "code",
   "execution_count": 3,
   "id": "e680fea2",
   "metadata": {},
   "outputs": [
    {
     "data": {
      "text/plain": [
       "['reviews1.csv',\n",
       " 'reviews10.csv',\n",
       " 'reviews2.csv',\n",
       " 'reviews3.csv',\n",
       " 'reviews4.csv',\n",
       " 'reviews5.csv',\n",
       " 'reviews6.csv',\n",
       " 'reviews7.csv',\n",
       " 'reviews8.csv',\n",
       " 'reviews9.csv']"
      ]
     },
     "execution_count": 3,
     "metadata": {},
     "output_type": "execute_result"
    }
   ],
   "source": [
    "data_files"
   ]
  },
  {
   "cell_type": "code",
   "execution_count": 4,
   "id": "498643f3",
   "metadata": {},
   "outputs": [],
   "source": [
    "merge_data = pd.concat(pd.read_csv(datafile).assign(sourcefilename=datafile)for datafile in data_files)"
   ]
  },
  {
   "cell_type": "code",
   "execution_count": 5,
   "id": "41de0524",
   "metadata": {},
   "outputs": [
    {
     "data": {
      "text/html": [
       "<div>\n",
       "<style scoped>\n",
       "    .dataframe tbody tr th:only-of-type {\n",
       "        vertical-align: middle;\n",
       "    }\n",
       "\n",
       "    .dataframe tbody tr th {\n",
       "        vertical-align: top;\n",
       "    }\n",
       "\n",
       "    .dataframe thead th {\n",
       "        text-align: right;\n",
       "    }\n",
       "</style>\n",
       "<table border=\"1\" class=\"dataframe\">\n",
       "  <thead>\n",
       "    <tr style=\"text-align: right;\">\n",
       "      <th></th>\n",
       "      <th>Unnamed: 0</th>\n",
       "      <th>Customer_Name</th>\n",
       "      <th>Date</th>\n",
       "      <th>Ratings</th>\n",
       "      <th>Review_Title</th>\n",
       "      <th>Reviews</th>\n",
       "      <th>Product_name</th>\n",
       "      <th>Price</th>\n",
       "      <th>sourcefilename</th>\n",
       "    </tr>\n",
       "  </thead>\n",
       "  <tbody>\n",
       "    <tr>\n",
       "      <th>0</th>\n",
       "      <td>0</td>\n",
       "      <td>Catherine</td>\n",
       "      <td>July 9, 2022</td>\n",
       "      <td>5.0 out of 5 stars</td>\n",
       "      <td>A decent, inexpensive laptop. Good for what I do.</td>\n",
       "      <td>I'm a writer and student and use non-MS progra...</td>\n",
       "      <td>Newest HP 14\" HD Laptop, Windows 11, Intel Cel...</td>\n",
       "      <td>$212.99</td>\n",
       "      <td>reviews1.csv</td>\n",
       "    </tr>\n",
       "    <tr>\n",
       "      <th>1</th>\n",
       "      <td>1</td>\n",
       "      <td>char</td>\n",
       "      <td>July 11, 2022</td>\n",
       "      <td>4.0 out of 5 stars</td>\n",
       "      <td>Good for price</td>\n",
       "      <td>This laptop is mainly used for gaming purpose,...</td>\n",
       "      <td>Newest HP 14\" HD Laptop, Windows 11, Intel Cel...</td>\n",
       "      <td>$212.99</td>\n",
       "      <td>reviews1.csv</td>\n",
       "    </tr>\n",
       "    <tr>\n",
       "      <th>2</th>\n",
       "      <td>2</td>\n",
       "      <td>Tracy</td>\n",
       "      <td>August 24, 2022</td>\n",
       "      <td>5.0 out of 5 stars</td>\n",
       "      <td>It was exactly as I expected, and the tutorial...</td>\n",
       "      <td>Delivery was prompt, and the laptop was in exc...</td>\n",
       "      <td>Newest HP 14\" HD Laptop, Windows 11, Intel Cel...</td>\n",
       "      <td>$212.99</td>\n",
       "      <td>reviews1.csv</td>\n",
       "    </tr>\n",
       "    <tr>\n",
       "      <th>3</th>\n",
       "      <td>3</td>\n",
       "      <td>Bethany Rhodes</td>\n",
       "      <td>August 14, 2022</td>\n",
       "      <td>5.0 out of 5 stars</td>\n",
       "      <td>Great value</td>\n",
       "      <td>I’ve had it for about two months. So far so go...</td>\n",
       "      <td>Newest HP 14\" HD Laptop, Windows 11, Intel Cel...</td>\n",
       "      <td>$212.99</td>\n",
       "      <td>reviews1.csv</td>\n",
       "    </tr>\n",
       "    <tr>\n",
       "      <th>4</th>\n",
       "      <td>4</td>\n",
       "      <td>Madeleine</td>\n",
       "      <td>August 1, 2022</td>\n",
       "      <td>5.0 out of 5 stars</td>\n",
       "      <td>Works quick</td>\n",
       "      <td>I like the slim design of the HP Laptop.Its ve...</td>\n",
       "      <td>Newest HP 14\" HD Laptop, Windows 11, Intel Cel...</td>\n",
       "      <td>$212.99</td>\n",
       "      <td>reviews1.csv</td>\n",
       "    </tr>\n",
       "  </tbody>\n",
       "</table>\n",
       "</div>"
      ],
      "text/plain": [
       "   Unnamed: 0   Customer_Name             Date             Ratings  \\\n",
       "0           0       Catherine     July 9, 2022  5.0 out of 5 stars   \n",
       "1           1            char    July 11, 2022  4.0 out of 5 stars   \n",
       "2           2           Tracy  August 24, 2022  5.0 out of 5 stars   \n",
       "3           3  Bethany Rhodes  August 14, 2022  5.0 out of 5 stars   \n",
       "4           4       Madeleine   August 1, 2022  5.0 out of 5 stars   \n",
       "\n",
       "                                        Review_Title  \\\n",
       "0  A decent, inexpensive laptop. Good for what I do.   \n",
       "1                                     Good for price   \n",
       "2  It was exactly as I expected, and the tutorial...   \n",
       "3                                        Great value   \n",
       "4                                        Works quick   \n",
       "\n",
       "                                             Reviews  \\\n",
       "0  I'm a writer and student and use non-MS progra...   \n",
       "1  This laptop is mainly used for gaming purpose,...   \n",
       "2  Delivery was prompt, and the laptop was in exc...   \n",
       "3  I’ve had it for about two months. So far so go...   \n",
       "4  I like the slim design of the HP Laptop.Its ve...   \n",
       "\n",
       "                                        Product_name    Price sourcefilename  \n",
       "0  Newest HP 14\" HD Laptop, Windows 11, Intel Cel...  $212.99   reviews1.csv  \n",
       "1  Newest HP 14\" HD Laptop, Windows 11, Intel Cel...  $212.99   reviews1.csv  \n",
       "2  Newest HP 14\" HD Laptop, Windows 11, Intel Cel...  $212.99   reviews1.csv  \n",
       "3  Newest HP 14\" HD Laptop, Windows 11, Intel Cel...  $212.99   reviews1.csv  \n",
       "4  Newest HP 14\" HD Laptop, Windows 11, Intel Cel...  $212.99   reviews1.csv  "
      ]
     },
     "execution_count": 5,
     "metadata": {},
     "output_type": "execute_result"
    }
   ],
   "source": [
    "merge_data.head()"
   ]
  },
  {
   "cell_type": "code",
   "execution_count": 6,
   "id": "72fbc485",
   "metadata": {},
   "outputs": [
    {
     "name": "stdout",
     "output_type": "stream",
     "text": [
      "<class 'pandas.core.frame.DataFrame'>\n",
      "Int64Index: 444 entries, 0 to 17\n",
      "Data columns (total 9 columns):\n",
      " #   Column          Non-Null Count  Dtype \n",
      "---  ------          --------------  ----- \n",
      " 0   Unnamed: 0      444 non-null    int64 \n",
      " 1   Customer_Name   444 non-null    object\n",
      " 2   Date            444 non-null    object\n",
      " 3   Ratings         444 non-null    object\n",
      " 4   Review_Title    429 non-null    object\n",
      " 5   Reviews         417 non-null    object\n",
      " 6   Product_name    444 non-null    object\n",
      " 7   Price           444 non-null    object\n",
      " 8   sourcefilename  444 non-null    object\n",
      "dtypes: int64(1), object(8)\n",
      "memory usage: 34.7+ KB\n"
     ]
    }
   ],
   "source": [
    "merge_data.info()"
   ]
  },
  {
   "cell_type": "code",
   "execution_count": 7,
   "id": "984767ab",
   "metadata": {},
   "outputs": [],
   "source": [
    "merge_data.to_csv('../hp_reviews.csv')"
   ]
  },
  {
   "cell_type": "code",
   "execution_count": null,
   "id": "56b27a19",
   "metadata": {},
   "outputs": [],
   "source": []
  }
 ],
 "metadata": {
  "kernelspec": {
   "display_name": "Python 3 (ipykernel)",
   "language": "python",
   "name": "python3"
  },
  "language_info": {
   "codemirror_mode": {
    "name": "ipython",
    "version": 3
   },
   "file_extension": ".py",
   "mimetype": "text/x-python",
   "name": "python",
   "nbconvert_exporter": "python",
   "pygments_lexer": "ipython3",
   "version": "3.10.6"
  }
 },
 "nbformat": 4,
 "nbformat_minor": 5
}
