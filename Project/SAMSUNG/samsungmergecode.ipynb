{
 "cells": [
  {
   "cell_type": "code",
   "execution_count": 1,
   "id": "25ad6546",
   "metadata": {},
   "outputs": [],
   "source": [
    "import pandas as pd\n",
    "from glob import glob"
   ]
  },
  {
   "cell_type": "code",
   "execution_count": 2,
   "id": "496cbcef",
   "metadata": {},
   "outputs": [
    {
     "data": {
      "text/plain": [
       "['review1.csv',\n",
       " 'review10.csv',\n",
       " 'review11.csv',\n",
       " 'review2.csv',\n",
       " 'review3.csv',\n",
       " 'review4.csv',\n",
       " 'review5.csv',\n",
       " 'review6.csv',\n",
       " 'review7.csv',\n",
       " 'review8.csv',\n",
       " 'review9.csv']"
      ]
     },
     "execution_count": 2,
     "metadata": {},
     "output_type": "execute_result"
    }
   ],
   "source": [
    "data_files = sorted(glob('review*.csv'))\n",
    "data_files"
   ]
  },
  {
   "cell_type": "code",
   "execution_count": 3,
   "id": "3edb537d",
   "metadata": {},
   "outputs": [
    {
     "name": "stdout",
     "output_type": "stream",
     "text": [
      "<class 'pandas.core.frame.DataFrame'>\n",
      "Int64Index: 512 entries, 0 to 49\n",
      "Data columns (total 9 columns):\n",
      " #   Column          Non-Null Count  Dtype \n",
      "---  ------          --------------  ----- \n",
      " 0   Unnamed: 0      512 non-null    int64 \n",
      " 1   Customer_Name   512 non-null    object\n",
      " 2   Date            512 non-null    object\n",
      " 3   Ratings         512 non-null    object\n",
      " 4   Review_Title    499 non-null    object\n",
      " 5   Reviews         497 non-null    object\n",
      " 6   Product_name    512 non-null    object\n",
      " 7   Price           512 non-null    object\n",
      " 8   sourcefilename  512 non-null    object\n",
      "dtypes: int64(1), object(8)\n",
      "memory usage: 40.0+ KB\n"
     ]
    }
   ],
   "source": [
    "merge_data = pd.concat(pd.read_csv(datafile).assign(sourcefilename=datafile)for datafile in data_files)\n",
    "merge_data.info()"
   ]
  },
  {
   "cell_type": "code",
   "execution_count": 6,
   "id": "445e8e9d",
   "metadata": {},
   "outputs": [],
   "source": [
    "merge_data.to_csv('../samsung_reviews.csv')"
   ]
  },
  {
   "cell_type": "code",
   "execution_count": null,
   "id": "091d67c3",
   "metadata": {},
   "outputs": [],
   "source": []
  }
 ],
 "metadata": {
  "kernelspec": {
   "display_name": "Python 3 (ipykernel)",
   "language": "python",
   "name": "python3"
  },
  "language_info": {
   "codemirror_mode": {
    "name": "ipython",
    "version": 3
   },
   "file_extension": ".py",
   "mimetype": "text/x-python",
   "name": "python",
   "nbconvert_exporter": "python",
   "pygments_lexer": "ipython3",
   "version": "3.10.6"
  }
 },
 "nbformat": 4,
 "nbformat_minor": 5
}
