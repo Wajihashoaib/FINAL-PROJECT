{
 "cells": [
  {
   "cell_type": "code",
   "execution_count": 1,
   "id": "bc9af627",
   "metadata": {},
   "outputs": [],
   "source": [
    "import pandas as pd\n",
    "from glob import glob"
   ]
  },
  {
   "cell_type": "code",
   "execution_count": 2,
   "id": "56b335c5",
   "metadata": {},
   "outputs": [],
   "source": [
    "data_files = sorted(glob('review*.csv'))"
   ]
  },
  {
   "cell_type": "code",
   "execution_count": 3,
   "id": "e680fea2",
   "metadata": {},
   "outputs": [
    {
     "data": {
      "text/plain": [
       "['review1.csv',\n",
       " 'review10.csv',\n",
       " 'review2.csv',\n",
       " 'review3.csv',\n",
       " 'review4.csv',\n",
       " 'review5.csv',\n",
       " 'review6.csv',\n",
       " 'review7.csv',\n",
       " 'review8.csv',\n",
       " 'review9.csv']"
      ]
     },
     "execution_count": 3,
     "metadata": {},
     "output_type": "execute_result"
    }
   ],
   "source": [
    "data_files"
   ]
  },
  {
   "cell_type": "code",
   "execution_count": 4,
   "id": "498643f3",
   "metadata": {},
   "outputs": [],
   "source": [
    "merge_data = pd.concat(pd.read_csv(datafile).assign(sourcefilename=datafile)for datafile in data_files)"
   ]
  },
  {
   "cell_type": "code",
   "execution_count": 5,
   "id": "41de0524",
   "metadata": {},
   "outputs": [
    {
     "data": {
      "text/html": [
       "<div>\n",
       "<style scoped>\n",
       "    .dataframe tbody tr th:only-of-type {\n",
       "        vertical-align: middle;\n",
       "    }\n",
       "\n",
       "    .dataframe tbody tr th {\n",
       "        vertical-align: top;\n",
       "    }\n",
       "\n",
       "    .dataframe thead th {\n",
       "        text-align: right;\n",
       "    }\n",
       "</style>\n",
       "<table border=\"1\" class=\"dataframe\">\n",
       "  <thead>\n",
       "    <tr style=\"text-align: right;\">\n",
       "      <th></th>\n",
       "      <th>Unnamed: 0</th>\n",
       "      <th>Customer_Name</th>\n",
       "      <th>Date</th>\n",
       "      <th>Ratings</th>\n",
       "      <th>Review_Title</th>\n",
       "      <th>Reviews</th>\n",
       "      <th>Product_name</th>\n",
       "      <th>Price</th>\n",
       "      <th>sourcefilename</th>\n",
       "    </tr>\n",
       "  </thead>\n",
       "  <tbody>\n",
       "    <tr>\n",
       "      <th>0</th>\n",
       "      <td>0</td>\n",
       "      <td>June J</td>\n",
       "      <td>July 21, 2022</td>\n",
       "      <td>5.0 out of 5 stars</td>\n",
       "      <td>Great laptop</td>\n",
       "      <td>This is a great inexpensive pretty powerful la...</td>\n",
       "      <td>Lenovo IdeaPad 3 14 Laptop, Intel Core i3-1005...</td>\n",
       "      <td>&amp;328</td>\n",
       "      <td>review1.csv</td>\n",
       "    </tr>\n",
       "    <tr>\n",
       "      <th>1</th>\n",
       "      <td>1</td>\n",
       "      <td>David Anderson</td>\n",
       "      <td>May 2, 2022</td>\n",
       "      <td>4.0 out of 5 stars</td>\n",
       "      <td>Nice and fast</td>\n",
       "      <td>Nice and fast could use a little more ram. The...</td>\n",
       "      <td>Lenovo IdeaPad 3 14 Laptop, Intel Core i3-1005...</td>\n",
       "      <td>&amp;328</td>\n",
       "      <td>review1.csv</td>\n",
       "    </tr>\n",
       "    <tr>\n",
       "      <th>2</th>\n",
       "      <td>2</td>\n",
       "      <td>Thor</td>\n",
       "      <td>July 18, 2022</td>\n",
       "      <td>5.0 out of 5 stars</td>\n",
       "      <td>Nice being able to get this with payments!</td>\n",
       "      <td>Great laptop. Large screen. Was able to get it...</td>\n",
       "      <td>Lenovo IdeaPad 3 14 Laptop, Intel Core i3-1005...</td>\n",
       "      <td>&amp;328</td>\n",
       "      <td>review1.csv</td>\n",
       "    </tr>\n",
       "    <tr>\n",
       "      <th>3</th>\n",
       "      <td>3</td>\n",
       "      <td>George</td>\n",
       "      <td>June 17, 2022</td>\n",
       "      <td>4.0 out of 5 stars</td>\n",
       "      <td>Overall it’s a great laptop</td>\n",
       "      <td>Everything is great except the touch pad somet...</td>\n",
       "      <td>Lenovo IdeaPad 3 14 Laptop, Intel Core i3-1005...</td>\n",
       "      <td>&amp;328</td>\n",
       "      <td>review1.csv</td>\n",
       "    </tr>\n",
       "    <tr>\n",
       "      <th>4</th>\n",
       "      <td>4</td>\n",
       "      <td>Danny</td>\n",
       "      <td>March 29, 2022</td>\n",
       "      <td>4.0 out of 5 stars</td>\n",
       "      <td>Great Laptop! Fast! EASY TO SEE keyboard!</td>\n",
       "      <td>Great Laptop! Fast! EASY TO SEE keyboard! (Whi...</td>\n",
       "      <td>Lenovo IdeaPad 3 14 Laptop, Intel Core i3-1005...</td>\n",
       "      <td>&amp;328</td>\n",
       "      <td>review1.csv</td>\n",
       "    </tr>\n",
       "  </tbody>\n",
       "</table>\n",
       "</div>"
      ],
      "text/plain": [
       "   Unnamed: 0   Customer_Name            Date             Ratings  \\\n",
       "0           0          June J   July 21, 2022  5.0 out of 5 stars   \n",
       "1           1  David Anderson     May 2, 2022  4.0 out of 5 stars   \n",
       "2           2            Thor   July 18, 2022  5.0 out of 5 stars   \n",
       "3           3          George   June 17, 2022  4.0 out of 5 stars   \n",
       "4           4           Danny  March 29, 2022  4.0 out of 5 stars   \n",
       "\n",
       "                                 Review_Title  \\\n",
       "0                                Great laptop   \n",
       "1                               Nice and fast   \n",
       "2  Nice being able to get this with payments!   \n",
       "3                 Overall it’s a great laptop   \n",
       "4   Great Laptop! Fast! EASY TO SEE keyboard!   \n",
       "\n",
       "                                             Reviews  \\\n",
       "0  This is a great inexpensive pretty powerful la...   \n",
       "1  Nice and fast could use a little more ram. The...   \n",
       "2  Great laptop. Large screen. Was able to get it...   \n",
       "3  Everything is great except the touch pad somet...   \n",
       "4  Great Laptop! Fast! EASY TO SEE keyboard! (Whi...   \n",
       "\n",
       "                                        Product_name Price sourcefilename  \n",
       "0  Lenovo IdeaPad 3 14 Laptop, Intel Core i3-1005...  &328    review1.csv  \n",
       "1  Lenovo IdeaPad 3 14 Laptop, Intel Core i3-1005...  &328    review1.csv  \n",
       "2  Lenovo IdeaPad 3 14 Laptop, Intel Core i3-1005...  &328    review1.csv  \n",
       "3  Lenovo IdeaPad 3 14 Laptop, Intel Core i3-1005...  &328    review1.csv  \n",
       "4  Lenovo IdeaPad 3 14 Laptop, Intel Core i3-1005...  &328    review1.csv  "
      ]
     },
     "execution_count": 5,
     "metadata": {},
     "output_type": "execute_result"
    }
   ],
   "source": [
    "merge_data.head()"
   ]
  },
  {
   "cell_type": "code",
   "execution_count": 6,
   "id": "72fbc485",
   "metadata": {},
   "outputs": [
    {
     "name": "stdout",
     "output_type": "stream",
     "text": [
      "<class 'pandas.core.frame.DataFrame'>\n",
      "Int64Index: 480 entries, 0 to 49\n",
      "Data columns (total 9 columns):\n",
      " #   Column          Non-Null Count  Dtype \n",
      "---  ------          --------------  ----- \n",
      " 0   Unnamed: 0      480 non-null    int64 \n",
      " 1   Customer_Name   480 non-null    object\n",
      " 2   Date            480 non-null    object\n",
      " 3   Ratings         480 non-null    object\n",
      " 4   Review_Title    454 non-null    object\n",
      " 5   Reviews         450 non-null    object\n",
      " 6   Product_name    480 non-null    object\n",
      " 7   Price           480 non-null    object\n",
      " 8   sourcefilename  480 non-null    object\n",
      "dtypes: int64(1), object(8)\n",
      "memory usage: 37.5+ KB\n"
     ]
    }
   ],
   "source": [
    "merge_data.info()"
   ]
  },
  {
   "cell_type": "code",
   "execution_count": 8,
   "id": "984767ab",
   "metadata": {},
   "outputs": [],
   "source": [
    "merge_data.to_csv('../lenovo_reviews.csv')"
   ]
  },
  {
   "cell_type": "code",
   "execution_count": null,
   "id": "56b27a19",
   "metadata": {},
   "outputs": [],
   "source": []
  }
 ],
 "metadata": {
  "kernelspec": {
   "display_name": "Python 3 (ipykernel)",
   "language": "python",
   "name": "python3"
  },
  "language_info": {
   "codemirror_mode": {
    "name": "ipython",
    "version": 3
   },
   "file_extension": ".py",
   "mimetype": "text/x-python",
   "name": "python",
   "nbconvert_exporter": "python",
   "pygments_lexer": "ipython3",
   "version": "3.10.6"
  }
 },
 "nbformat": 4,
 "nbformat_minor": 5
}
