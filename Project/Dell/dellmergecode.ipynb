{
 "cells": [
  {
   "cell_type": "code",
   "execution_count": 1,
   "id": "cd2884bb",
   "metadata": {},
   "outputs": [],
   "source": [
    "import pandas as pd\n",
    "from glob import glob"
   ]
  },
  {
   "cell_type": "code",
   "execution_count": 2,
   "id": "376e2c2b",
   "metadata": {},
   "outputs": [
    {
     "data": {
      "text/plain": [
       "['review1.csv',\n",
       " 'review10.csv',\n",
       " 'review11.csv',\n",
       " 'review12.csv',\n",
       " 'review13.csv',\n",
       " 'review14.csv',\n",
       " 'review2.csv',\n",
       " 'review3.csv',\n",
       " 'review4.csv',\n",
       " 'review5.csv',\n",
       " 'review6.csv',\n",
       " 'review7.csv',\n",
       " 'review8.csv',\n",
       " 'review9.csv']"
      ]
     },
     "execution_count": 2,
     "metadata": {},
     "output_type": "execute_result"
    }
   ],
   "source": [
    "data_files = sorted(glob('review*.csv'))\n",
    "data_files"
   ]
  },
  {
   "cell_type": "code",
   "execution_count": 3,
   "id": "c88d8c2d",
   "metadata": {},
   "outputs": [
    {
     "name": "stdout",
     "output_type": "stream",
     "text": [
      "<class 'pandas.core.frame.DataFrame'>\n",
      "Int64Index: 592 entries, 0 to 49\n",
      "Data columns (total 9 columns):\n",
      " #   Column          Non-Null Count  Dtype \n",
      "---  ------          --------------  ----- \n",
      " 0   Unnamed: 0      592 non-null    int64 \n",
      " 1   Customer_Name   592 non-null    object\n",
      " 2   Date            592 non-null    object\n",
      " 3   Ratings         592 non-null    object\n",
      " 4   Review_Title    563 non-null    object\n",
      " 5   Reviews         554 non-null    object\n",
      " 6   Product_name    592 non-null    object\n",
      " 7   Price           592 non-null    object\n",
      " 8   sourcefilename  592 non-null    object\n",
      "dtypes: int64(1), object(8)\n",
      "memory usage: 46.2+ KB\n"
     ]
    }
   ],
   "source": [
    "merge_data = pd.concat(pd.read_csv(datafile).assign(sourcefilename=datafile)for datafile in data_files)\n",
    "merge_data.info()"
   ]
  },
  {
   "cell_type": "code",
   "execution_count": 5,
   "id": "3b6f5e1b",
   "metadata": {},
   "outputs": [],
   "source": [
    "merge_data.to_csv('../dell_reviews.csv')"
   ]
  },
  {
   "cell_type": "code",
   "execution_count": null,
   "id": "5f45404d",
   "metadata": {},
   "outputs": [],
   "source": []
  }
 ],
 "metadata": {
  "kernelspec": {
   "display_name": "Python 3 (ipykernel)",
   "language": "python",
   "name": "python3"
  },
  "language_info": {
   "codemirror_mode": {
    "name": "ipython",
    "version": 3
   },
   "file_extension": ".py",
   "mimetype": "text/x-python",
   "name": "python",
   "nbconvert_exporter": "python",
   "pygments_lexer": "ipython3",
   "version": "3.10.6"
  }
 },
 "nbformat": 4,
 "nbformat_minor": 5
}
