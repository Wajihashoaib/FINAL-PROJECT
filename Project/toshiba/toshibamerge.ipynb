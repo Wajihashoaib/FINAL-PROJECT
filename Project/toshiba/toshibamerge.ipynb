{
 "cells": [
  {
   "cell_type": "code",
   "execution_count": 1,
   "id": "bc9af627",
   "metadata": {},
   "outputs": [],
   "source": [
    "import pandas as pd\n",
    "from glob import glob"
   ]
  },
  {
   "cell_type": "code",
   "execution_count": 2,
   "id": "56b335c5",
   "metadata": {},
   "outputs": [],
   "source": [
    "data_files = sorted(glob('review*.csv'))"
   ]
  },
  {
   "cell_type": "code",
   "execution_count": 3,
   "id": "e680fea2",
   "metadata": {},
   "outputs": [
    {
     "data": {
      "text/plain": [
       "['review12.csv',\n",
       " 'reviews1.csv',\n",
       " 'reviews10.csv',\n",
       " 'reviews11.csv',\n",
       " 'reviews2.csv',\n",
       " 'reviews3.csv',\n",
       " 'reviews4.csv',\n",
       " 'reviews5.csv',\n",
       " 'reviews6.csv',\n",
       " 'reviews7.csv',\n",
       " 'reviews8.csv',\n",
       " 'reviews9.csv']"
      ]
     },
     "execution_count": 3,
     "metadata": {},
     "output_type": "execute_result"
    }
   ],
   "source": [
    "data_files"
   ]
  },
  {
   "cell_type": "code",
   "execution_count": 4,
   "id": "498643f3",
   "metadata": {},
   "outputs": [],
   "source": [
    "merge_data = pd.concat(pd.read_csv(datafile).assign(sourcefilename=datafile)for datafile in data_files)"
   ]
  },
  {
   "cell_type": "code",
   "execution_count": 5,
   "id": "41de0524",
   "metadata": {},
   "outputs": [
    {
     "data": {
      "text/html": [
       "<div>\n",
       "<style scoped>\n",
       "    .dataframe tbody tr th:only-of-type {\n",
       "        vertical-align: middle;\n",
       "    }\n",
       "\n",
       "    .dataframe tbody tr th {\n",
       "        vertical-align: top;\n",
       "    }\n",
       "\n",
       "    .dataframe thead th {\n",
       "        text-align: right;\n",
       "    }\n",
       "</style>\n",
       "<table border=\"1\" class=\"dataframe\">\n",
       "  <thead>\n",
       "    <tr style=\"text-align: right;\">\n",
       "      <th></th>\n",
       "      <th>Unnamed: 0</th>\n",
       "      <th>Customer_Name</th>\n",
       "      <th>Date</th>\n",
       "      <th>Ratings</th>\n",
       "      <th>Review_Title</th>\n",
       "      <th>Reviews</th>\n",
       "      <th>Product_name</th>\n",
       "      <th>Price</th>\n",
       "      <th>sourcefilename</th>\n",
       "    </tr>\n",
       "  </thead>\n",
       "  <tbody>\n",
       "    <tr>\n",
       "      <th>0</th>\n",
       "      <td>0</td>\n",
       "      <td>Allison</td>\n",
       "      <td>August 9, 2022</td>\n",
       "      <td>5.0 out of 5 stars</td>\n",
       "      <td>It replaced my old Toshiba so everything about...</td>\n",
       "      <td>Overall this is a great laptop.</td>\n",
       "      <td>Dynabook Toshiba Satellite Pro L50-G Business ...</td>\n",
       "      <td>$2,399.00</td>\n",
       "      <td>review12.csv</td>\n",
       "    </tr>\n",
       "    <tr>\n",
       "      <th>1</th>\n",
       "      <td>1</td>\n",
       "      <td>Albert Alvarez</td>\n",
       "      <td>June 22, 2022</td>\n",
       "      <td>5.0 out of 5 stars</td>\n",
       "      <td>KEYSTROKE KEY ARE EASILY SIZED FOR OLDER SENIO...</td>\n",
       "      <td>I ENTRUST THAT GEEK GROUP THAT PROVIDED ME WIT...</td>\n",
       "      <td>Dynabook Toshiba Satellite Pro L50-G Business ...</td>\n",
       "      <td>$2,399.00</td>\n",
       "      <td>review12.csv</td>\n",
       "    </tr>\n",
       "    <tr>\n",
       "      <th>2</th>\n",
       "      <td>2</td>\n",
       "      <td>Amazon Customer</td>\n",
       "      <td>January 26, 2022</td>\n",
       "      <td>5.0 out of 5 stars</td>\n",
       "      <td>Toshiba in Disguise</td>\n",
       "      <td>It was time to finally replace my beloved Tosh...</td>\n",
       "      <td>Dynabook Toshiba Satellite Pro L50-G Business ...</td>\n",
       "      <td>$2,399.00</td>\n",
       "      <td>review12.csv</td>\n",
       "    </tr>\n",
       "    <tr>\n",
       "      <th>3</th>\n",
       "      <td>3</td>\n",
       "      <td>Elmer D.</td>\n",
       "      <td>May 26, 2022</td>\n",
       "      <td>5.0 out of 5 stars</td>\n",
       "      <td>Works great for down loading songs and playing...</td>\n",
       "      <td>Everything is great, I use it for karaoke in m...</td>\n",
       "      <td>Dynabook Toshiba Satellite Pro L50-G Business ...</td>\n",
       "      <td>$2,399.00</td>\n",
       "      <td>review12.csv</td>\n",
       "    </tr>\n",
       "    <tr>\n",
       "      <th>4</th>\n",
       "      <td>4</td>\n",
       "      <td>Amazon Customer</td>\n",
       "      <td>June 1, 2021</td>\n",
       "      <td>5.0 out of 5 stars</td>\n",
       "      <td>Shipping time was great. I received it in Pana...</td>\n",
       "      <td>I bought this computer for a young man who is ...</td>\n",
       "      <td>Dynabook Toshiba Satellite Pro L50-G Business ...</td>\n",
       "      <td>$2,399.00</td>\n",
       "      <td>review12.csv</td>\n",
       "    </tr>\n",
       "  </tbody>\n",
       "</table>\n",
       "</div>"
      ],
      "text/plain": [
       "   Unnamed: 0    Customer_Name              Date             Ratings  \\\n",
       "0           0          Allison    August 9, 2022  5.0 out of 5 stars   \n",
       "1           1   Albert Alvarez     June 22, 2022  5.0 out of 5 stars   \n",
       "2           2  Amazon Customer  January 26, 2022  5.0 out of 5 stars   \n",
       "3           3         Elmer D.      May 26, 2022  5.0 out of 5 stars   \n",
       "4           4  Amazon Customer      June 1, 2021  5.0 out of 5 stars   \n",
       "\n",
       "                                        Review_Title  \\\n",
       "0  It replaced my old Toshiba so everything about...   \n",
       "1  KEYSTROKE KEY ARE EASILY SIZED FOR OLDER SENIO...   \n",
       "2                                Toshiba in Disguise   \n",
       "3  Works great for down loading songs and playing...   \n",
       "4  Shipping time was great. I received it in Pana...   \n",
       "\n",
       "                                             Reviews  \\\n",
       "0                    Overall this is a great laptop.   \n",
       "1  I ENTRUST THAT GEEK GROUP THAT PROVIDED ME WIT...   \n",
       "2  It was time to finally replace my beloved Tosh...   \n",
       "3  Everything is great, I use it for karaoke in m...   \n",
       "4  I bought this computer for a young man who is ...   \n",
       "\n",
       "                                        Product_name      Price sourcefilename  \n",
       "0  Dynabook Toshiba Satellite Pro L50-G Business ...  $2,399.00   review12.csv  \n",
       "1  Dynabook Toshiba Satellite Pro L50-G Business ...  $2,399.00   review12.csv  \n",
       "2  Dynabook Toshiba Satellite Pro L50-G Business ...  $2,399.00   review12.csv  \n",
       "3  Dynabook Toshiba Satellite Pro L50-G Business ...  $2,399.00   review12.csv  \n",
       "4  Dynabook Toshiba Satellite Pro L50-G Business ...  $2,399.00   review12.csv  "
      ]
     },
     "execution_count": 5,
     "metadata": {},
     "output_type": "execute_result"
    }
   ],
   "source": [
    "merge_data.head()"
   ]
  },
  {
   "cell_type": "code",
   "execution_count": 6,
   "id": "72fbc485",
   "metadata": {},
   "outputs": [
    {
     "name": "stdout",
     "output_type": "stream",
     "text": [
      "<class 'pandas.core.frame.DataFrame'>\n",
      "Int64Index: 502 entries, 0 to 49\n",
      "Data columns (total 9 columns):\n",
      " #   Column          Non-Null Count  Dtype \n",
      "---  ------          --------------  ----- \n",
      " 0   Unnamed: 0      502 non-null    int64 \n",
      " 1   Customer_Name   502 non-null    object\n",
      " 2   Date            502 non-null    object\n",
      " 3   Ratings         502 non-null    object\n",
      " 4   Review_Title    498 non-null    object\n",
      " 5   Reviews         496 non-null    object\n",
      " 6   Product_name    502 non-null    object\n",
      " 7   Price           502 non-null    object\n",
      " 8   sourcefilename  502 non-null    object\n",
      "dtypes: int64(1), object(8)\n",
      "memory usage: 39.2+ KB\n"
     ]
    }
   ],
   "source": [
    "merge_data.info()"
   ]
  },
  {
   "cell_type": "code",
   "execution_count": 7,
   "id": "984767ab",
   "metadata": {},
   "outputs": [],
   "source": [
    "merge_data.to_csv('../toshiba_reviews.csv')"
   ]
  },
  {
   "cell_type": "code",
   "execution_count": null,
   "id": "56b27a19",
   "metadata": {},
   "outputs": [],
   "source": []
  }
 ],
 "metadata": {
  "kernelspec": {
   "display_name": "Python 3 (ipykernel)",
   "language": "python",
   "name": "python3"
  },
  "language_info": {
   "codemirror_mode": {
    "name": "ipython",
    "version": 3
   },
   "file_extension": ".py",
   "mimetype": "text/x-python",
   "name": "python",
   "nbconvert_exporter": "python",
   "pygments_lexer": "ipython3",
   "version": "3.10.6"
  }
 },
 "nbformat": 4,
 "nbformat_minor": 5
}
