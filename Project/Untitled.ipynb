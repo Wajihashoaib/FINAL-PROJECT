{
 "cells": [
  {
   "cell_type": "code",
   "execution_count": 1,
   "id": "bd364eb1",
   "metadata": {},
   "outputs": [],
   "source": [
    "import requests\n",
    "from bs4 import BeautifulSoup\n",
    "import pandas as pd\n",
    "from urllib.parse import urlencode\n",
    "import csv"
   ]
  },
  {
   "cell_type": "code",
   "execution_count": 212,
   "id": "e4faa109",
   "metadata": {},
   "outputs": [],
   "source": [
    "list_of_urls =['https://www.amazon.com/Lenovo-Chromebook-Convertible-11-6-Inch-81HY0000US/product-reviews/B07GM2J11Q/ref=cm_cr_dp_d_show_all_btm?ie=UTF8&reviewerType=all_reviews',\n",
    "              'https://www.amazon.com/Lenovo-Chromebook-Convertible-11-6-Inch-81HY0000US/product-reviews/B07GM2J11Q/ref=cm_cr_dp_d_show_all_btm?ie=UTF8&reviewerType=all_reviews&pageNumber=2',\n",
    "              'https://www.amazon.com/Lenovo-Chromebook-Convertible-11-6-Inch-81HY0000US/product-reviews/B07GM2J11Q/ref=cm_cr_dp_d_show_all_btm?ie=UTF8&reviewerType=all_reviews&pageNumber=3',\n",
    "              'https://www.amazon.com/Lenovo-Chromebook-Convertible-11-6-Inch-81HY0000US/product-reviews/B07GM2J11Q/ref=cm_cr_dp_d_show_all_btm?ie=UTF8&reviewerType=all_reviews&pageNumber=4',\n",
    "              'https://www.amazon.com/Lenovo-Chromebook-Convertible-11-6-Inch-81HY0000US/product-reviews/B07GM2J11Q/ref=cm_cr_dp_d_show_all_btm?ie=UTF8&reviewerType=all_reviews&pageNumber= 5']"
   ]
  },
  {
   "cell_type": "code",
   "execution_count": 213,
   "id": "4999f8e9",
   "metadata": {},
   "outputs": [],
   "source": [
    "cust_name=[]\n",
    "rev_date=[]\n",
    "ratings=[]\n",
    "rev_title=[]\n",
    "rev_content=[]\n",
    "\n",
    "for url in list_of_urls: \n",
    "    params = {'api_key': \"49b17104f801d5d2ef09bb412a6f71ae\", 'url': url}\n",
    "    response = requests.get('http://api.scraperapi.com/',   params=urlencode(params))\n",
    "    soup = BeautifulSoup(response.text, 'html.parser')\n",
    "    names = soup.select('span.a-profile-name')[2:]\n",
    "    titles = soup.select('a.review-title span')\n",
    "    dates = soup.select('span.review-date')[2:]\n",
    "    stars = soup.select('i.review-rating span.a-icon-alt')[2:]\n",
    "    reviews = soup.select('span.review-text-content span')\n",
    "    product_name = soup.select('a.product-link')\n",
    "    for i in range(len(names)):\n",
    "        cust_name.append(names[i].get_text())\n",
    "        rev_date.append(dates[i].get_text().replace(\"Reviewed in the United States on \",\"\"))\n",
    "        ratings.append(stars[i].get_text())\n",
    "        rev_title.append(titles[i].get_text())\n",
    "        rev_content.append(reviews[i].get_text().strip(\"\\n \"))\n",
    "    "
   ]
  },
  {
   "cell_type": "code",
   "execution_count": 214,
   "id": "be645e86",
   "metadata": {},
   "outputs": [],
   "source": [
    "df = pd.DataFrame()\n",
    "df['Customer_Name'] = cust_name\n",
    "df['Date'] = rev_date\n",
    "df['Ratings'] = ratings\n",
    "df['Review_Title'] = rev_title\n",
    "df['Reviews'] = rev_content\n",
    "df['Product_name'] = 'Lenovo Chromebook C330 2-in-1 Convertible Laptop, 11.6\" HD Display, MediaTek MT8173C, 4GB RAM, 64GB Storage, Chrome OS, Blizzard White'\n",
    "df['Price'] = '&289'"
   ]
  },
  {
   "cell_type": "code",
   "execution_count": 210,
   "id": "7b9cd1bf",
   "metadata": {},
   "outputs": [
    {
     "name": "stdout",
     "output_type": "stream",
     "text": [
      "<class 'pandas.core.frame.DataFrame'>\n",
      "RangeIndex: 50 entries, 0 to 49\n",
      "Data columns (total 7 columns):\n",
      " #   Column         Non-Null Count  Dtype \n",
      "---  ------         --------------  ----- \n",
      " 0   Customer_Name  50 non-null     object\n",
      " 1   Date           50 non-null     object\n",
      " 2   Ratings        50 non-null     object\n",
      " 3   Review_Title   50 non-null     object\n",
      " 4   Reviews        50 non-null     object\n",
      " 5   Product_name   50 non-null     object\n",
      " 6   Price          50 non-null     object\n",
      "dtypes: object(7)\n",
      "memory usage: 2.9+ KB\n"
     ]
    }
   ],
   "source": [
    "df.info()"
   ]
  },
  {
   "cell_type": "code",
   "execution_count": 215,
   "id": "cc403653",
   "metadata": {},
   "outputs": [],
   "source": [
    "df.to_csv('Lenovo/review10.csv')"
   ]
  }
 ],
 "metadata": {
  "kernelspec": {
   "display_name": "Python 3 (ipykernel)",
   "language": "python",
   "name": "python3"
  },
  "language_info": {
   "codemirror_mode": {
    "name": "ipython",
    "version": 3
   },
   "file_extension": ".py",
   "mimetype": "text/x-python",
   "name": "python",
   "nbconvert_exporter": "python",
   "pygments_lexer": "ipython3",
   "version": "3.10.6"
  }
 },
 "nbformat": 4,
 "nbformat_minor": 5
}
