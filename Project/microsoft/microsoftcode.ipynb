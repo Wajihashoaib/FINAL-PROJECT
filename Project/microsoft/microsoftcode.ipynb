{
 "cells": [
  {
   "cell_type": "code",
   "execution_count": 1,
   "id": "bc9af627",
   "metadata": {},
   "outputs": [],
   "source": [
    "import pandas as pd\n",
    "from glob import glob"
   ]
  },
  {
   "cell_type": "code",
   "execution_count": 2,
   "id": "56b335c5",
   "metadata": {},
   "outputs": [],
   "source": [
    "data_files = sorted(glob('review*.csv'))"
   ]
  },
  {
   "cell_type": "code",
   "execution_count": 3,
   "id": "e680fea2",
   "metadata": {},
   "outputs": [
    {
     "data": {
      "text/plain": [
       "['reviews.csv',\n",
       " 'reviews1.csv',\n",
       " 'reviews2.csv',\n",
       " 'reviews3.csv',\n",
       " 'reviews4.csv',\n",
       " 'reviews5.csv',\n",
       " 'reviews6.csv',\n",
       " 'reviews7.csv']"
      ]
     },
     "execution_count": 3,
     "metadata": {},
     "output_type": "execute_result"
    }
   ],
   "source": [
    "data_files"
   ]
  },
  {
   "cell_type": "code",
   "execution_count": 4,
   "id": "498643f3",
   "metadata": {},
   "outputs": [],
   "source": [
    "merge_data = pd.concat(pd.read_csv(datafile).assign(sourcefilename=datafile)for datafile in data_files)"
   ]
  },
  {
   "cell_type": "code",
   "execution_count": 5,
   "id": "41de0524",
   "metadata": {},
   "outputs": [
    {
     "data": {
      "text/html": [
       "<div>\n",
       "<style scoped>\n",
       "    .dataframe tbody tr th:only-of-type {\n",
       "        vertical-align: middle;\n",
       "    }\n",
       "\n",
       "    .dataframe tbody tr th {\n",
       "        vertical-align: top;\n",
       "    }\n",
       "\n",
       "    .dataframe thead th {\n",
       "        text-align: right;\n",
       "    }\n",
       "</style>\n",
       "<table border=\"1\" class=\"dataframe\">\n",
       "  <thead>\n",
       "    <tr style=\"text-align: right;\">\n",
       "      <th></th>\n",
       "      <th>Unnamed: 0</th>\n",
       "      <th>Customer_Name</th>\n",
       "      <th>Date</th>\n",
       "      <th>Ratings</th>\n",
       "      <th>Review_Title</th>\n",
       "      <th>Reviews</th>\n",
       "      <th>Product_name</th>\n",
       "      <th>Price</th>\n",
       "      <th>sourcefilename</th>\n",
       "    </tr>\n",
       "  </thead>\n",
       "  <tbody>\n",
       "    <tr>\n",
       "      <th>0</th>\n",
       "      <td>0</td>\n",
       "      <td>Qbee00</td>\n",
       "      <td>August 14, 2022</td>\n",
       "      <td>5.0 out of 5 stars</td>\n",
       "      <td>Great Laptop!</td>\n",
       "      <td>I got this laptop to replace my MacBook air an...</td>\n",
       "      <td>Microsoft Surface Laptop 3, 10th Gen Intel Cor...</td>\n",
       "      <td>$499.00</td>\n",
       "      <td>reviews.csv</td>\n",
       "    </tr>\n",
       "    <tr>\n",
       "      <th>1</th>\n",
       "      <td>1</td>\n",
       "      <td>Gab</td>\n",
       "      <td>August 16, 2022</td>\n",
       "      <td>5.0 out of 5 stars</td>\n",
       "      <td>Great computer for the price. Worth the risk</td>\n",
       "      <td>❤️❤️❤️❤️This is a great computer for the price...</td>\n",
       "      <td>Microsoft Surface Laptop 3, 10th Gen Intel Cor...</td>\n",
       "      <td>$499.00</td>\n",
       "      <td>reviews.csv</td>\n",
       "    </tr>\n",
       "    <tr>\n",
       "      <th>2</th>\n",
       "      <td>2</td>\n",
       "      <td>Scott Myhre</td>\n",
       "      <td>August 9, 2022</td>\n",
       "      <td>5.0 out of 5 stars</td>\n",
       "      <td>Second time was a charm......</td>\n",
       "      <td>I ordered this during the summer sale for $499...</td>\n",
       "      <td>Microsoft Surface Laptop 3, 10th Gen Intel Cor...</td>\n",
       "      <td>$499.00</td>\n",
       "      <td>reviews.csv</td>\n",
       "    </tr>\n",
       "    <tr>\n",
       "      <th>3</th>\n",
       "      <td>3</td>\n",
       "      <td>Elain Robles</td>\n",
       "      <td>August 10, 2022</td>\n",
       "      <td>5.0 out of 5 stars</td>\n",
       "      <td>Like New!</td>\n",
       "      <td>I love it. I love the color and it literally c...</td>\n",
       "      <td>Microsoft Surface Laptop 3, 10th Gen Intel Cor...</td>\n",
       "      <td>$499.00</td>\n",
       "      <td>reviews.csv</td>\n",
       "    </tr>\n",
       "    <tr>\n",
       "      <th>4</th>\n",
       "      <td>4</td>\n",
       "      <td>Juan M. Cabrera Ramirez</td>\n",
       "      <td>July 9, 2022</td>\n",
       "      <td>5.0 out of 5 stars</td>\n",
       "      <td>Refurbished Laptop is Like New</td>\n",
       "      <td>I received the Refurbished Surface Laptop in S...</td>\n",
       "      <td>Microsoft Surface Laptop 3, 10th Gen Intel Cor...</td>\n",
       "      <td>$499.00</td>\n",
       "      <td>reviews.csv</td>\n",
       "    </tr>\n",
       "  </tbody>\n",
       "</table>\n",
       "</div>"
      ],
      "text/plain": [
       "   Unnamed: 0            Customer_Name             Date             Ratings  \\\n",
       "0           0                   Qbee00  August 14, 2022  5.0 out of 5 stars   \n",
       "1           1                      Gab  August 16, 2022  5.0 out of 5 stars   \n",
       "2           2              Scott Myhre   August 9, 2022  5.0 out of 5 stars   \n",
       "3           3             Elain Robles  August 10, 2022  5.0 out of 5 stars   \n",
       "4           4  Juan M. Cabrera Ramirez     July 9, 2022  5.0 out of 5 stars   \n",
       "\n",
       "                                   Review_Title  \\\n",
       "0                                 Great Laptop!   \n",
       "1  Great computer for the price. Worth the risk   \n",
       "2                 Second time was a charm......   \n",
       "3                                     Like New!   \n",
       "4                Refurbished Laptop is Like New   \n",
       "\n",
       "                                             Reviews  \\\n",
       "0  I got this laptop to replace my MacBook air an...   \n",
       "1  ❤️❤️❤️❤️This is a great computer for the price...   \n",
       "2  I ordered this during the summer sale for $499...   \n",
       "3  I love it. I love the color and it literally c...   \n",
       "4  I received the Refurbished Surface Laptop in S...   \n",
       "\n",
       "                                        Product_name    Price sourcefilename  \n",
       "0  Microsoft Surface Laptop 3, 10th Gen Intel Cor...  $499.00    reviews.csv  \n",
       "1  Microsoft Surface Laptop 3, 10th Gen Intel Cor...  $499.00    reviews.csv  \n",
       "2  Microsoft Surface Laptop 3, 10th Gen Intel Cor...  $499.00    reviews.csv  \n",
       "3  Microsoft Surface Laptop 3, 10th Gen Intel Cor...  $499.00    reviews.csv  \n",
       "4  Microsoft Surface Laptop 3, 10th Gen Intel Cor...  $499.00    reviews.csv  "
      ]
     },
     "execution_count": 5,
     "metadata": {},
     "output_type": "execute_result"
    }
   ],
   "source": [
    "merge_data.head()"
   ]
  },
  {
   "cell_type": "code",
   "execution_count": 6,
   "id": "72fbc485",
   "metadata": {},
   "outputs": [
    {
     "name": "stdout",
     "output_type": "stream",
     "text": [
      "<class 'pandas.core.frame.DataFrame'>\n",
      "Int64Index: 251 entries, 0 to 9\n",
      "Data columns (total 9 columns):\n",
      " #   Column          Non-Null Count  Dtype \n",
      "---  ------          --------------  ----- \n",
      " 0   Unnamed: 0      251 non-null    int64 \n",
      " 1   Customer_Name   250 non-null    object\n",
      " 2   Date            251 non-null    object\n",
      " 3   Ratings         251 non-null    object\n",
      " 4   Review_Title    242 non-null    object\n",
      " 5   Reviews         240 non-null    object\n",
      " 6   Product_name    251 non-null    object\n",
      " 7   Price           251 non-null    object\n",
      " 8   sourcefilename  251 non-null    object\n",
      "dtypes: int64(1), object(8)\n",
      "memory usage: 19.6+ KB\n"
     ]
    }
   ],
   "source": [
    "merge_data.info()"
   ]
  },
  {
   "cell_type": "code",
   "execution_count": 7,
   "id": "984767ab",
   "metadata": {},
   "outputs": [],
   "source": [
    "merge_data.to_csv('../Microsoft_reviews.csv')"
   ]
  }
 ],
 "metadata": {
  "kernelspec": {
   "display_name": "Python 3 (ipykernel)",
   "language": "python",
   "name": "python3"
  },
  "language_info": {
   "codemirror_mode": {
    "name": "ipython",
    "version": 3
   },
   "file_extension": ".py",
   "mimetype": "text/x-python",
   "name": "python",
   "nbconvert_exporter": "python",
   "pygments_lexer": "ipython3",
   "version": "3.10.6"
  }
 },
 "nbformat": 4,
 "nbformat_minor": 5
}
